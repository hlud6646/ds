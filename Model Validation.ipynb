{
 "cells": [
  {
   "cell_type": "markdown",
   "metadata": {},
   "source": [
    "# (1) Error Metrics\n",
    "A summary of any metric encountered.\n",
    "\n",
    "## (1.1) Mean Absolute Error\n",
    "For a continuous variable.\n",
    "$$ MAE = \\sum |e_i| $$\n",
    "where $e_i$ is the absolute error of a particular sample."
   ]
  },
  {
   "cell_type": "markdown",
   "metadata": {},
   "source": [
    "# (2) Train-Test Split.  Clunky Validation.\n",
    "To test a models accuracy, ramndomly split the training data $A$ into two sets: $A0$ and $A1$.\n",
    "Fit $A0$ to the model (in stead of the full set) and see what prediction it makes for $A1$.\n",
    "\n",
    "Sklearn has a builtin feature for splitting data sets this way, but it also has more powerful evaluation routines that can do all this under the hood."
   ]
  },
  {
   "cell_type": "code",
   "execution_count": 13,
   "metadata": {},
   "outputs": [
    {
     "name": "stdout",
     "output_type": "stream",
     "text": [
      "0.15179935542871367\n"
     ]
    }
   ],
   "source": [
    "# Clunky way to test a model.\n",
    "\n",
    "from sklearn.tree import DecisionTreeRegressor\n",
    "from sklearn.model_selection import train_test_split\n",
    "from sklearn.metrics import mean_absolute_error\n",
    "import numpy as np\n",
    "\n",
    "X = np.random.random((10, 3))\n",
    "y = np.sin(X)\n",
    "\n",
    "train_X, val_X, train_y, val_y = train_test_split(X, y, random_state = 0)\n",
    "model = DecisionTreeRegressor()\n",
    "model.fit(train_X, train_y)\n",
    "\n",
    "val_predictions = model.predict(val_X)\n",
    "\n",
    "print(mean_absolute_error(val_y, val_predictions))"
   ]
  },
  {
   "cell_type": "markdown",
   "metadata": {},
   "source": [
    "# (3) Easy Mysterious Validation.\n",
    "Most (all?) Sklearn models have a 'score' method outputting 1=good, 0=bad.  This is obviously much cleaner to type than the low level version in (2), and also hides any math or real understanding under a blanket of convenience."
   ]
  },
  {
   "cell_type": "code",
   "execution_count": null,
   "metadata": {},
   "outputs": [],
   "source": []
  }
 ],
 "metadata": {
  "kernelspec": {
   "display_name": "Python 3",
   "language": "python",
   "name": "python3"
  },
  "language_info": {
   "codemirror_mode": {
    "name": "ipython",
    "version": 3
   },
   "file_extension": ".py",
   "mimetype": "text/x-python",
   "name": "python",
   "nbconvert_exporter": "python",
   "pygments_lexer": "ipython3",
   "version": "3.7.6"
  }
 },
 "nbformat": 4,
 "nbformat_minor": 2
}
