{
 "cells": [
  {
   "cell_type": "markdown",
   "metadata": {},
   "source": [
    "# Leakage and Pipelines\n",
    "\n",
    "Kind of cool that both these concepts are named after plumbing metaphors.\n",
    "\n",
    "## Train-Test Contamination\n",
    "refers to information contained in the validation set being used to fit a model.  If such a leakage occurs then the model will perform unrealistically well on that validation data.\n",
    "To avoid this, the model (including any preprocessing) should be fit on the training data only."
   ]
  },
  {
   "cell_type": "code",
   "execution_count": null,
   "metadata": {},
   "outputs": [],
   "source": [
    "# Note the difference between the functions\n",
    "imputer.fit_transform(X_train)\n",
    "imputer.transform(X_validate)"
   ]
  },
  {
   "cell_type": "markdown",
   "metadata": {},
   "source": [
    "## Duplicates\n",
    "If the dataset contains points which are duplicates (or nearly duplicates) then the same point may occur in both the training and validation datasets.  Obviously the solution is to remove duplicates before splitting the data into training and validation sets.  The challenge then lies in determining an approproate distance function for whatever the data represents."
   ]
  },
  {
   "cell_type": "markdown",
   "metadata": {},
   "source": [
    "## Target Leakage\n",
    "refers to information in the training data that wouldn't be available at the moment when a prediction was made.\n",
    "With time-series data the training and validation need to be such that the validation data contains only events that are in the future (from the perspective of the training data) to imitate deployment of the model.  Easy as sorting by time before splitting the data.  Careful then, because what is the behaviour of helper methods like train_test_split or even some_model.score in this case?"
   ]
  },
  {
   "cell_type": "markdown",
   "metadata": {},
   "source": []
  }
 ],
 "metadata": {
  "kernelspec": {
   "display_name": "Python 3",
   "language": "python",
   "name": "python3"
  },
  "language_info": {
   "codemirror_mode": {
    "name": "ipython",
    "version": 3
   },
   "file_extension": ".py",
   "mimetype": "text/x-python",
   "name": "python",
   "nbconvert_exporter": "python",
   "pygments_lexer": "ipython3",
   "version": "3.7.6"
  }
 },
 "nbformat": 4,
 "nbformat_minor": 2
}
