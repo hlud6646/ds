{
 "cells": [
  {
   "cell_type": "markdown",
   "metadata": {},
   "source": [
    "# Classification\n",
    "For local datasets that fit in memory.  Lots of function parameters are included, even if they are set to their default values.\n",
    "\n",
    "### Contents:\n",
    "1. Load dependencies.\n",
    "2. Load data.\n",
    "3. Create training/validation sets.\n",
    "4. Develope a strategy for missing values."
   ]
  },
  {
   "cell_type": "code",
   "execution_count": 1,
   "metadata": {},
   "outputs": [],
   "source": [
    "## Dependencies.  Comment out extras.\n",
    "\n",
    "## Basics. \n",
    "import pandas as pd\n",
    "import numpy as np\n",
    "import seaborn as sns\n",
    "\n",
    "## Models.\n",
    "from sklearn.ensemble import RandomForestRegressor\n",
    "import xgboost\n",
    "import lightgbm\n",
    "\n",
    "## Other sklearn.\n",
    "from sklearn.pipeline import Pipeline\n",
    "from sklearn.model_selection import train_test_split\n",
    "\n",
    "## Matplotlib\n",
    "import matplotlib.pyplot as plt\n",
    "%matplotlib inline\n",
    "\n",
    "## Other\n",
    "from datetime import Datetime"
   ]
  },
  {
   "cell_type": "code",
   "execution_count": 2,
   "metadata": {},
   "outputs": [],
   "source": [
    "## Load Dataset.\n",
    "full_data = pd.read_csv(???, index_col=???, other_args=???)\n",
    "full_data.head()"
   ]
  },
  {
   "cell_type": "code",
   "execution_count": 6,
   "metadata": {},
   "outputs": [],
   "source": [
    "## Determine taget feature and instantiate training/validation sets.\n",
    "target = ???\n",
    "X, y = full_data.drop(target, axis=1), df[target]\n",
    "\n",
    "# For time-series data the shuffle parameter should be False.\n",
    "# For targets with uneven distributions stratify should be True.\n",
    "(X, \n",
    " X_valid, \n",
    " y, \n",
    " y_valid) = train_test_split(X, \n",
    "                             y,\n",
    "                             test_size=.25,\n",
    "                             random_state=42,\n",
    "                             shuffle=True,\n",
    "                             stratify=False)"
   ]
  },
  {
   "cell_type": "code",
   "execution_count": 8,
   "metadata": {},
   "outputs": [],
   "source": [
    "## Examine missing values.  \n",
    "## Need to know how many are missing and the dtype to determine a strategy.\n",
    "plt.figure(figsize=(16, 6))\n",
    "missing = full_data.isnull().sum() / len(full_data.index) % 100\n",
    "ax = sns.barplot(missing * 100, missing.index, orient='h')\n",
    "ax.set(ylabel='feature', xlabel='% missing')"
   ]
  },
  {
   "cell_type": "code",
   "execution_count": null,
   "metadata": {},
   "outputs": [],
   "source": []
  }
 ],
 "metadata": {
  "kernelspec": {
   "display_name": "Python 3",
   "language": "python",
   "name": "python3"
  },
  "language_info": {
   "codemirror_mode": {
    "name": "ipython",
    "version": 3
   },
   "file_extension": ".py",
   "mimetype": "text/x-python",
   "name": "python",
   "nbconvert_exporter": "python",
   "pygments_lexer": "ipython3",
   "version": "3.7.6"
  }
 },
 "nbformat": 4,
 "nbformat_minor": 2
}
