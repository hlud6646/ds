{
 "cells": [
  {
   "cell_type": "markdown",
   "metadata": {},
   "source": [
    "# Image Classification with Keras\n",
    "\n",
    "Build a sequential model from scratch.  Features of this example:\n",
    "- Batched input, suitable for large sets;\n",
    "- Data augmentation; \n",
    "- Dropout and stride training.\n",
    "\n",
    "## Input\n",
    "Paths to directories containing training and validation data.  A `keras.ImageDataGenerator` is used to batch process and load these data, which must be stored according to the docs at https://keras.io/preprocessing/image/:\n",
    "\n",
    "> **directory**: string, path to the target directory. It should contain one subdirectory per class.\n",
    "\n",
    "\n",
    "## Workflow\n",
    "1. Load dependencies.\n",
    "2. Configure data preprocessing and augmentation.\n",
    "3. Model design\n",
    "4. Compile and fit."
   ]
  },
  {
   "cell_type": "code",
   "execution_count": 4,
   "metadata": {},
   "outputs": [],
   "source": [
    "from tensorflow.python.keras.preprocessing.image import ImageDataGenerator\n",
    "from tensorflow.keras.models import Sequential\n",
    "from tensorflow.keras.layers import Conv2D, Dense, Flatten, Dropout"
   ]
  },
  {
   "cell_type": "code",
   "execution_count": null,
   "metadata": {},
   "outputs": [],
   "source": [
    "prefix = '../input/???'\n",
    "train_path = prefix + 'train'\n",
    "valid_path = prefix + 'valid'\n",
    "\n",
    "def preprocess_image(image):\n",
    "    \"\"\" From docs for ImageDataGenerator:\n",
    "            function that will be applied on each input. \n",
    "            The function will run after the image is resized and augmented. \n",
    "            The function should take one argument: one image (Numpy tensor with rank 3), \n",
    "            and should output a Numpy tensor with the same shape.\n",
    "        This example normalizes 8bit RGB.\"\"\"\n",
    "    return image / 255\n",
    "\n",
    "# Data augmentation tidily handled by passing args to this constructor.\n",
    "data_generator = ImageDataGenerator(\n",
    "    preprocessing_function=preprocess_image,\n",
    "    vertical_flip=True)\n",
    "\n",
    "train_generator = data_generator.flow_from_directory(train_path)\n",
    "valid_generator = data_generator.flow_from_directory(valid_path)"
   ]
  },
  {
   "cell_type": "code",
   "execution_count": 6,
   "metadata": {},
   "outputs": [],
   "source": [
    "model = Sequential()\n",
    "\n",
    "# Input layer.\n",
    "model.add(Conv2D(16, kernel_size=(3, 3),\n",
    "                 activation='relu',\n",
    "                 input_shape=(img_rows, img_cols, 1)))\n",
    "\n",
    "# Hidden layers.\n",
    "for layer in [\n",
    "    Conv2D(16, (3, 3), activation='relu', strides=2)\n",
    "    Dropout(.5)\n",
    "    Flatten()\n",
    "    Dense(128, activation='relu'),]:\n",
    "    model.add(layer)\n",
    "\n",
    "# Output layer.\n",
    "model.add(Dense(num_classes, activation='softmax'))"
   ]
  },
  {
   "cell_type": "code",
   "execution_count": null,
   "metadata": {},
   "outputs": [],
   "source": []
  }
 ],
 "metadata": {
  "kernelspec": {
   "display_name": "Python 3",
   "language": "python",
   "name": "python3"
  },
  "language_info": {
   "codemirror_mode": {
    "name": "ipython",
    "version": 3
   },
   "file_extension": ".py",
   "mimetype": "text/x-python",
   "name": "python",
   "nbconvert_exporter": "python",
   "pygments_lexer": "ipython3",
   "version": "3.7.6"
  }
 },
 "nbformat": 4,
 "nbformat_minor": 2
}
